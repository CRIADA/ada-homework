{
 "cells": [
  {
   "cell_type": "markdown",
   "metadata": {},
   "source": [
    "# HW0 - Attempt 2 based on Edoardo's example"
   ]
  },
  {
   "cell_type": "code",
   "execution_count": 5,
   "metadata": {},
   "outputs": [],
   "source": [
    "import csv"
   ]
  },
  {
   "cell_type": "code",
   "execution_count": 75,
   "metadata": {},
   "outputs": [],
   "source": [
    "# Read csv into a list of dicts\n",
    "#Dictionary = {key: Value}, where the keys will be the field headers and the values \n",
    "# from the csv\n",
    "\n",
    "data_list = []\n",
    "\n",
    "fields = ['index',\n",
    "         'year',\n",
    "         'month',\n",
    "         'intent',\n",
    "         'police',\n",
    "         'sex',\n",
    "         'age',\n",
    "         'race',\n",
    "         'hispanic',\n",
    "         'place',\n",
    "         'education']\n",
    "\n",
    "with open('full_data.csv') as csv_file:\n",
    "    csv_read = csv.DictReader(csv_file, fieldnames = fields)\n",
    "    data_list = list(csv_read)\n",
    "    data_list.pop(0)\n",
    "    \n",
    "# DictReader creates an ordered Dict for each row using the fields entered as Keys\n",
    "# We convert this into a list in order to have a list of all dicts\n",
    "# Here we pop the first row in the dict as it contains the headers from the csv which we no longer need"
   ]
  },
  {
   "cell_type": "code",
   "execution_count": 18,
   "metadata": {},
   "outputs": [],
   "source": [
    "def field_count(data_list: dict, field: str) -> dict:\n",
    "    \n",
    "    count_dict = {}\n",
    "    \n",
    "    fields = ['index',\n",
    "         'year',\n",
    "         'month',\n",
    "         'intent',\n",
    "         'police',\n",
    "         'sex',\n",
    "         'age',\n",
    "         'race',\n",
    "         'hispanic',\n",
    "         'place',\n",
    "         'education']\n",
    "    \n",
    "    if field not in fields:\n",
    "        raise(Exception('The field is invalid'))\n",
    "    \n",
    "    for entry in data_list:\n",
    "        count_dict.setdefault(entry[field], 0)\n",
    "        count_dict[entry[field]] += 1\n",
    "        \n",
    "    return count_dict\n",
    "\n",
    "# Here, each entry in data_list is a dict.  Setdefault looks in count_dict to see if key = entry[field] exists.  If it does not, \n",
    "# this key is added and set to the value 0.  If it exists, setdefault does nothing.  We then add 1 to the value of the key.\n",
    "# Hence counting each occurence of each value of the selected field in data_list"
   ]
  },
  {
   "cell_type": "code",
   "execution_count": 76,
   "metadata": {},
   "outputs": [],
   "source": [
    "intent_count = field_count(data_list, 'intent')"
   ]
  },
  {
   "cell_type": "code",
   "execution_count": 77,
   "metadata": {},
   "outputs": [
    {
     "data": {
      "text/plain": [
       "{'Suicide': 63175,\n",
       " 'Undetermined': 807,\n",
       " 'Accidental': 1639,\n",
       " 'Homicide': 35176,\n",
       " 'NA': 1}"
      ]
     },
     "execution_count": 77,
     "metadata": {},
     "output_type": "execute_result"
    }
   ],
   "source": [
    "intent_count"
   ]
  },
  {
   "cell_type": "code",
   "execution_count": 80,
   "metadata": {},
   "outputs": [],
   "source": [
    "def pourcentage_deaths(data_list: list,field: str):\n",
    "    count_dict = field_count(data_list, field)\n",
    "    for key in count_dict:\n",
    "        ratio=count_dict[key]/sum(count_dict.values())\n",
    "        pourcentage = round(ratio*100, 3)\n",
    "        print('{} accounts for {} % of {} '.format(key, pourcentage, field))\n",
    "        \n",
    "#This function breaks down the ratios of each value for the sepcified key.  It uses the field_count function to obtain the value\n",
    "# counts of the desired key and then divides each value by the total of all values"
   ]
  },
  {
   "cell_type": "markdown",
   "metadata": {},
   "source": [
    "# Pourcentage breakdown of Intents"
   ]
  },
  {
   "cell_type": "code",
   "execution_count": 81,
   "metadata": {},
   "outputs": [
    {
     "name": "stdout",
     "output_type": "stream",
     "text": [
      "Suicide accounts for 62.675 % of intent \n",
      "Undetermined accounts for 0.801 % of intent \n",
      "Accidental accounts for 1.626 % of intent \n",
      "Homicide accounts for 34.898 % of intent \n",
      "NA accounts for 0.001 % of intent \n"
     ]
    }
   ],
   "source": [
    "intent_pourcentage = pourcentage_deaths(data_list,'intent')"
   ]
  },
  {
   "cell_type": "code",
   "execution_count": 93,
   "metadata": {},
   "outputs": [],
   "source": [
    "def filter_mult_fields(data_list: dict, field_dict: dict):\n",
    "    \n",
    "    final_list = data_list.copy()\n",
    "    \n",
    "    for field in field_dict:\n",
    "        final_list = list(filter(lambda x: x[field] == field_dict[field], final_list))\n",
    "        \n",
    "    return len(final_list)/3   \n",
    "        \n",
    "# This function takes a number of "
   ]
  },
  {
   "cell_type": "code",
   "execution_count": 94,
   "metadata": {},
   "outputs": [
    {
     "data": {
      "text/plain": [
       "2189.0"
      ]
     },
     "execution_count": 94,
     "metadata": {},
     "output_type": "execute_result"
    }
   ],
   "source": [
    "sample_dict = { 'intent': 'Homicide', 'sex': 'M', 'race': 'White' }\n",
    "\n",
    "filter_mult_fields(data_list, sample_dict)"
   ]
  },
  {
   "cell_type": "code",
   "execution_count": null,
   "metadata": {},
   "outputs": [],
   "source": []
  }
 ],
 "metadata": {
  "kernelspec": {
   "display_name": "Python 3",
   "language": "python",
   "name": "python3"
  },
  "language_info": {
   "codemirror_mode": {
    "name": "ipython",
    "version": 3
   },
   "file_extension": ".py",
   "mimetype": "text/x-python",
   "name": "python",
   "nbconvert_exporter": "python",
   "pygments_lexer": "ipython3",
   "version": "3.7.4"
  }
 },
 "nbformat": 4,
 "nbformat_minor": 4
}
