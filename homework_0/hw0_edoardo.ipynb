{
 "cells": [
  {
   "cell_type": "markdown",
   "metadata": {},
   "source": [
    "# Gunshot deaths in the US"
   ]
  },
  {
   "cell_type": "code",
   "execution_count": 2,
   "metadata": {},
   "outputs": [],
   "source": [
    "import csv"
   ]
  },
  {
   "cell_type": "markdown",
   "metadata": {},
   "source": [
    "## Import the dataset from GitHub"
   ]
  },
  {
   "cell_type": "code",
   "execution_count": 3,
   "metadata": {},
   "outputs": [],
   "source": [
    "data_list = []\n",
    "fields = ['index',\n",
    "           'year',\n",
    "           'month',\n",
    "           'intent',\n",
    "           'police',\n",
    "           'sex',\n",
    "           'age',\n",
    "           'race',\n",
    "           'hispanic',\n",
    "           'place'\n",
    "           'education']\n",
    "\n",
    "with open('full_data.csv') as csv_file:\n",
    "    data_reader = csv.DictReader(csv_file, fieldnames=fields)\n",
    "    data_list = list(data_reader)\n",
    "    data_list.pop(0)"
   ]
  },
  {
   "cell_type": "code",
   "execution_count": 4,
   "metadata": {},
   "outputs": [],
   "source": [
    "def field_count(data_list: list, field: str) -> dict:\n",
    "    \"\"\"\n",
    "    Counts the number of entries that correspond to each type of element in a field of a dataset.\n",
    "    \n",
    "    Arguments:\n",
    "        data_list: a list of dictionaries\n",
    "        field: the field on which the function must group by\n",
    "    \n",
    "    Returns:\n",
    "        count_dict: the dictionary containing as key each type found in the\n",
    "        field and as value the count of the type.\n",
    "    \"\"\"\n",
    "    count_dict = {}\n",
    "    \n",
    "    fields = ['index',\n",
    "           'year',\n",
    "           'month',\n",
    "           'intent',\n",
    "           'police',\n",
    "           'sex',\n",
    "           'age',\n",
    "           'race',\n",
    "           'hispanic',\n",
    "           'place'\n",
    "           'education']\n",
    "    \n",
    "    if field not in fields:\n",
    "        raise(Exception('The field is invalid'))\n",
    "    \n",
    "    for entry in data_list:\n",
    "        count_dict.setdefault(entry[field], 0)\n",
    "        count_dict[entry[field]] += 1\n",
    "        \n",
    "    return count_dict"
   ]
  },
  {
   "cell_type": "markdown",
   "metadata": {},
   "source": [
    "# Analysis according to the gender"
   ]
  },
  {
   "cell_type": "code",
   "execution_count": 6,
   "metadata": {},
   "outputs": [
    {
     "name": "stdout",
     "output_type": "stream",
     "text": [
      "M: 28783\n",
      "F: 4816\n"
     ]
    },
    {
     "data": {
      "text/plain": [
       "(86349, 14449)"
      ]
     },
     "execution_count": 6,
     "metadata": {},
     "output_type": "execute_result"
    }
   ],
   "source": [
    "gender_count = field_count(data_list, 'sex')\n",
    "\n",
    "for key in gender_count:\n",
    "    print(key + \": \" + str(round(gender_count[key] / 3)))\n",
    "    \n",
    "males, females"
   ]
  },
  {
   "cell_type": "markdown",
   "metadata": {},
   "source": [
    "# Analysis according to the race"
   ]
  },
  {
   "cell_type": "code",
   "execution_count": 42,
   "metadata": {},
   "outputs": [
    {
     "name": "stdout",
     "output_type": "stream",
     "text": [
      "Asian/Pacific Islander: 442\n",
      "White: 22079\n",
      "Native American/Native Alaskan: 306\n",
      "Black: 7765\n",
      "Hispanic: 3007\n"
     ]
    }
   ],
   "source": [
    "races_count = field_count(data_list, 'race')\n",
    "\n",
    "for key in races_count:\n",
    "    print(key + \": \" + str(round(races_count[key] / 3)))"
   ]
  },
  {
   "cell_type": "markdown",
   "metadata": {},
   "source": [
    "# Analysis according to the intent"
   ]
  },
  {
   "cell_type": "code",
   "execution_count": 30,
   "metadata": {},
   "outputs": [
    {
     "name": "stdout",
     "output_type": "stream",
     "text": [
      "Suicide: 21058\n",
      "Undetermined: 269\n",
      "Accidental: 546\n",
      "Homicide: 11725\n",
      "NA: 0\n"
     ]
    }
   ],
   "source": [
    "intents_count = field_count(data_list, 'intent')\n",
    "\n",
    "for key in intents_count:\n",
    "    print(key + \": \" + str(round(intents_count[key] / 3)))"
   ]
  },
  {
   "cell_type": "code",
   "execution_count": 9,
   "metadata": {},
   "outputs": [],
   "source": [
    "def filter_mult_el(data_list, fields_dict):\n",
    "    \n",
    "    final_list = data_list.copy()\n",
    "    \n",
    "    for field in fields_dict:\n",
    "        final_list = list(filter(lambda x: x[field] == fields_dict[field], final_list))\n",
    "    \n",
    "    return len(final_list)"
   ]
  },
  {
   "cell_type": "code",
   "execution_count": 12,
   "metadata": {},
   "outputs": [
    {
     "data": {
      "text/plain": [
       "2189.0"
      ]
     },
     "execution_count": 12,
     "metadata": {},
     "output_type": "execute_result"
    }
   ],
   "source": [
    "sample_dict = { 'intent': 'Homicide', 'sex': 'M', 'race': 'White' }\n",
    "\n",
    "filter_mult_el(data_list, sample_dict) / 3"
   ]
  }
 ],
 "metadata": {
  "kernelspec": {
   "display_name": "Python 3",
   "language": "python",
   "name": "python3"
  },
  "language_info": {
   "codemirror_mode": {
    "name": "ipython",
    "version": 3
   },
   "file_extension": ".py",
   "mimetype": "text/x-python",
   "name": "python",
   "nbconvert_exporter": "python",
   "pygments_lexer": "ipython3",
   "version": "3.7.4"
  }
 },
 "nbformat": 4,
 "nbformat_minor": 4
}
